{
 "cells": [
  {
   "cell_type": "code",
   "execution_count": null,
   "id": "04cdca91",
   "metadata": {},
   "outputs": [],
   "source": [
    "import sys\n",
    "sys.path.append('..')\n",
    "\n",
    "import numpy as np\n",
    "import pandas as pd\n",
    "import statsmodels.api as sm\n",
    "\n",
    "from midterm.module.utils import *"
   ]
  },
  {
   "cell_type": "code",
   "execution_count": null,
   "id": "9f147626",
   "metadata": {},
   "outputs": [],
   "source": [
    "data = pd.read_excel(\"../data/port_decomp_example.xlsx\", sheet_name = \"total returns\").set_index(\"Date\")\n",
    "port = pd.read_excel(\"../data/port_decomp_example.xlsx\", sheet_name = \"portfolio returns\").set_index(\"Date\")"
   ]
  },
  {
   "cell_type": "code",
   "execution_count": 4,
   "id": "46e48d51",
   "metadata": {},
   "outputs": [],
   "source": [
    "data = pd.read_excel(\"../data/port_decomp_example.xlsx\", sheet_name = \"total returns\").set_index(\"Date\")\n",
    "port = pd.read_excel(\"../data/port_decomp_example.xlsx\", sheet_name = \"portfolio returns\").set_index(\"Date\")"
   ]
  },
  {
   "cell_type": "code",
   "execution_count": 11,
   "id": "ba86fb2c",
   "metadata": {},
   "outputs": [
    {
     "name": "stdout",
     "output_type": "stream",
     "text": [
      "Alpha: -0.0017\n",
      "Beta: 0.627\n",
      "R-squared: 0.7568\n"
     ]
    }
   ],
   "source": [
    "y = port[\"portfolio\"]\n",
    "spy = data[\"SPY\"]\n",
    "x = sm.add_constant(spy)\n",
    "\n",
    "model = sm.OLS(y, x).fit()\n",
    "print(f\"Alpha: {round(model.params['const'], 4)}\")\n",
    "print(f\"Beta: {round(model.params['SPY'], 4)}\")\n",
    "print(f\"R-squared: {round(model.rsquared, 4)}\")"
   ]
  },
  {
   "cell_type": "code",
   "execution_count": 14,
   "id": "023f9cc6",
   "metadata": {},
   "outputs": [
    {
     "name": "stdout",
     "output_type": "stream",
     "text": [
      "Alpha: -0.0015\n",
      "Beta SPY: 0.3826\n",
      "Beta HYG: 0.5766\n",
      "R-squared: 0.8225\n"
     ]
    }
   ],
   "source": [
    "y = port[\"portfolio\"]\n",
    "tickers = [\"SPY\", \"HYG\"]\n",
    "x = sm.add_constant(data[tickers])\n",
    "model = sm.OLS(y, x).fit()\n",
    "print(f\"Alpha: {round(model.params['const'], 4)}\")\n",
    "for ticker in tickers:\n",
    "    print(f\"Beta {ticker}: {round(model.params[ticker], 4)}\")\n",
    "print(f\"R-squared: {round(model.rsquared, 4)}\")"
   ]
  },
  {
   "cell_type": "code",
   "execution_count": null,
   "id": "7d6359f8",
   "metadata": {},
   "outputs": [],
   "source": []
  }
 ],
 "metadata": {
  "kernelspec": {
   "display_name": "finmpy",
   "language": "python",
   "name": "python3"
  },
  "language_info": {
   "codemirror_mode": {
    "name": "ipython",
    "version": 3
   },
   "file_extension": ".py",
   "mimetype": "text/x-python",
   "name": "python",
   "nbconvert_exporter": "python",
   "pygments_lexer": "ipython3",
   "version": "3.12.11"
  }
 },
 "nbformat": 4,
 "nbformat_minor": 5
}
